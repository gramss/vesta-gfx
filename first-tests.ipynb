{
 "cells": [
  {
   "cell_type": "code",
   "execution_count": 17,
   "metadata": {},
   "outputs": [
    {
     "name": "stdout",
     "output_type": "stream",
     "text": [
      "[typing.List[int], typing.List[int], typing.List[int], typing.List[int], typing.List[int]]\n",
      "<class 'typing._GenericAlias'>\n"
     ]
    },
    {
     "ename": "TypeError",
     "evalue": "Parameters to generic types must be types. Got 0.",
     "output_type": "error",
     "traceback": [
      "\u001b[0;31m---------------------------------------------------------------------------\u001b[0m",
      "\u001b[0;31mTypeError\u001b[0m                                 Traceback (most recent call last)",
      "\u001b[1;32mUntitled-1.ipynb Cell 1'\u001b[0m in \u001b[0;36m<cell line: 16>\u001b[0;34m()\u001b[0m\n\u001b[1;32m     <a href='vscode-notebook-cell:Untitled-1.ipynb?jupyter-notebook#ch0000000untitled?line=11'>12</a>\u001b[0m \u001b[39mprint\u001b[39m (\u001b[39mtype\u001b[39m(b))\n\u001b[1;32m     <a href='vscode-notebook-cell:Untitled-1.ipynb?jupyter-notebook#ch0000000untitled?line=12'>13</a>\u001b[0m \u001b[39m# for i in a:\u001b[39;00m\n\u001b[1;32m     <a href='vscode-notebook-cell:Untitled-1.ipynb?jupyter-notebook#ch0000000untitled?line=13'>14</a>\u001b[0m \u001b[39m#     b[i] = a[i]\u001b[39;00m\n\u001b[0;32m---> <a href='vscode-notebook-cell:Untitled-1.ipynb?jupyter-notebook#ch0000000untitled?line=15'>16</a>\u001b[0m vesta\u001b[39m.\u001b[39;49mpprint(b)\n",
      "File \u001b[0;32m/Library/Python/3.8/site-packages/vesta/chars.py:244\u001b[0m, in \u001b[0;36mpprint\u001b[0;34m(data, stream, sep, block)\u001b[0m\n\u001b[1;32m    <a href='file:///Library/Python/3.8/site-packages/vesta/chars.py?line=232'>233</a>\u001b[0m \u001b[39mdef\u001b[39;00m \u001b[39mpprint\u001b[39m(\n\u001b[1;32m    <a href='file:///Library/Python/3.8/site-packages/vesta/chars.py?line=233'>234</a>\u001b[0m     data: Union[Row, Rows],\n\u001b[1;32m    <a href='file:///Library/Python/3.8/site-packages/vesta/chars.py?line=234'>235</a>\u001b[0m     stream: TextIO \u001b[39m=\u001b[39m sys\u001b[39m.\u001b[39mstdout,\n\u001b[0;32m   (...)\u001b[0m\n\u001b[1;32m    <a href='file:///Library/Python/3.8/site-packages/vesta/chars.py?line=237'>238</a>\u001b[0m     block: \u001b[39mstr\u001b[39m \u001b[39m=\u001b[39m \u001b[39m\"\u001b[39m\u001b[39m◼︎\u001b[39m\u001b[39m\"\u001b[39m,\n\u001b[1;32m    <a href='file:///Library/Python/3.8/site-packages/vesta/chars.py?line=238'>239</a>\u001b[0m ) \u001b[39m-\u001b[39m\u001b[39m>\u001b[39m \u001b[39mNone\u001b[39;00m:\n\u001b[1;32m    <a href='file:///Library/Python/3.8/site-packages/vesta/chars.py?line=239'>240</a>\u001b[0m     \u001b[39m\"\"\"Prints a console-formatted representation of encoded character data.\u001b[39;00m\n\u001b[1;32m    <a href='file:///Library/Python/3.8/site-packages/vesta/chars.py?line=240'>241</a>\u001b[0m \n\u001b[1;32m    <a href='file:///Library/Python/3.8/site-packages/vesta/chars.py?line=241'>242</a>\u001b[0m \u001b[39m    ``data`` may be a single list or a two-dimensional array of character codes.\u001b[39;00m\n\u001b[1;32m    <a href='file:///Library/Python/3.8/site-packages/vesta/chars.py?line=242'>243</a>\u001b[0m \u001b[39m    \"\"\"\u001b[39;00m\n\u001b[0;32m--> <a href='file:///Library/Python/3.8/site-packages/vesta/chars.py?line=243'>244</a>\u001b[0m     rows \u001b[39m=\u001b[39m cast(Rows, data \u001b[39mif\u001b[39;00m data \u001b[39mand\u001b[39;00m \u001b[39misinstance\u001b[39m(data[\u001b[39m0\u001b[39;49m], \u001b[39mlist\u001b[39m) \u001b[39melse\u001b[39;00m [data])\n\u001b[1;32m    <a href='file:///Library/Python/3.8/site-packages/vesta/chars.py?line=245'>246</a>\u001b[0m     \u001b[39m# Assume all TTYs support color.\u001b[39;00m\n\u001b[1;32m    <a href='file:///Library/Python/3.8/site-packages/vesta/chars.py?line=246'>247</a>\u001b[0m     colors \u001b[39m=\u001b[39m stream\u001b[39m.\u001b[39misatty()\n",
      "File \u001b[0;32m/Library/Developer/CommandLineTools/Library/Frameworks/Python3.framework/Versions/3.8/lib/python3.8/typing.py:261\u001b[0m, in \u001b[0;36m_tp_cache.<locals>.inner\u001b[0;34m(*args, **kwds)\u001b[0m\n\u001b[1;32m    <a href='file:///Library/Developer/CommandLineTools/Library/Frameworks/Python3.framework/Versions/3.8/lib/python3.8/typing.py?line=258'>259</a>\u001b[0m \u001b[39mexcept\u001b[39;00m \u001b[39mTypeError\u001b[39;00m:\n\u001b[1;32m    <a href='file:///Library/Developer/CommandLineTools/Library/Frameworks/Python3.framework/Versions/3.8/lib/python3.8/typing.py?line=259'>260</a>\u001b[0m     \u001b[39mpass\u001b[39;00m  \u001b[39m# All real errors (not unhashable args) are raised below.\u001b[39;00m\n\u001b[0;32m--> <a href='file:///Library/Developer/CommandLineTools/Library/Frameworks/Python3.framework/Versions/3.8/lib/python3.8/typing.py?line=260'>261</a>\u001b[0m \u001b[39mreturn\u001b[39;00m func(\u001b[39m*\u001b[39;49margs, \u001b[39m*\u001b[39;49m\u001b[39m*\u001b[39;49mkwds)\n",
      "File \u001b[0;32m/Library/Developer/CommandLineTools/Library/Frameworks/Python3.framework/Versions/3.8/lib/python3.8/typing.py:682\u001b[0m, in \u001b[0;36m_GenericAlias.__getitem__\u001b[0;34m(self, params)\u001b[0m\n\u001b[1;32m    <a href='file:///Library/Developer/CommandLineTools/Library/Frameworks/Python3.framework/Versions/3.8/lib/python3.8/typing.py?line=679'>680</a>\u001b[0m     params \u001b[39m=\u001b[39m (params,)\n\u001b[1;32m    <a href='file:///Library/Developer/CommandLineTools/Library/Frameworks/Python3.framework/Versions/3.8/lib/python3.8/typing.py?line=680'>681</a>\u001b[0m msg \u001b[39m=\u001b[39m \u001b[39m\"\u001b[39m\u001b[39mParameters to generic types must be types.\u001b[39m\u001b[39m\"\u001b[39m\n\u001b[0;32m--> <a href='file:///Library/Developer/CommandLineTools/Library/Frameworks/Python3.framework/Versions/3.8/lib/python3.8/typing.py?line=681'>682</a>\u001b[0m params \u001b[39m=\u001b[39m \u001b[39mtuple\u001b[39;49m(_type_check(p, msg) \u001b[39mfor\u001b[39;49;00m p \u001b[39min\u001b[39;49;00m params)\n\u001b[1;32m    <a href='file:///Library/Developer/CommandLineTools/Library/Frameworks/Python3.framework/Versions/3.8/lib/python3.8/typing.py?line=682'>683</a>\u001b[0m _check_generic(\u001b[39mself\u001b[39m, params)\n\u001b[1;32m    <a href='file:///Library/Developer/CommandLineTools/Library/Frameworks/Python3.framework/Versions/3.8/lib/python3.8/typing.py?line=683'>684</a>\u001b[0m \u001b[39mreturn\u001b[39;00m _subs_tvars(\u001b[39mself\u001b[39m, \u001b[39mself\u001b[39m\u001b[39m.\u001b[39m__parameters__, params)\n",
      "File \u001b[0;32m/Library/Developer/CommandLineTools/Library/Frameworks/Python3.framework/Versions/3.8/lib/python3.8/typing.py:682\u001b[0m, in \u001b[0;36m<genexpr>\u001b[0;34m(.0)\u001b[0m\n\u001b[1;32m    <a href='file:///Library/Developer/CommandLineTools/Library/Frameworks/Python3.framework/Versions/3.8/lib/python3.8/typing.py?line=679'>680</a>\u001b[0m     params \u001b[39m=\u001b[39m (params,)\n\u001b[1;32m    <a href='file:///Library/Developer/CommandLineTools/Library/Frameworks/Python3.framework/Versions/3.8/lib/python3.8/typing.py?line=680'>681</a>\u001b[0m msg \u001b[39m=\u001b[39m \u001b[39m\"\u001b[39m\u001b[39mParameters to generic types must be types.\u001b[39m\u001b[39m\"\u001b[39m\n\u001b[0;32m--> <a href='file:///Library/Developer/CommandLineTools/Library/Frameworks/Python3.framework/Versions/3.8/lib/python3.8/typing.py?line=681'>682</a>\u001b[0m params \u001b[39m=\u001b[39m \u001b[39mtuple\u001b[39m(_type_check(p, msg) \u001b[39mfor\u001b[39;00m p \u001b[39min\u001b[39;00m params)\n\u001b[1;32m    <a href='file:///Library/Developer/CommandLineTools/Library/Frameworks/Python3.framework/Versions/3.8/lib/python3.8/typing.py?line=682'>683</a>\u001b[0m _check_generic(\u001b[39mself\u001b[39m, params)\n\u001b[1;32m    <a href='file:///Library/Developer/CommandLineTools/Library/Frameworks/Python3.framework/Versions/3.8/lib/python3.8/typing.py?line=683'>684</a>\u001b[0m \u001b[39mreturn\u001b[39;00m _subs_tvars(\u001b[39mself\u001b[39m, \u001b[39mself\u001b[39m\u001b[39m.\u001b[39m__parameters__, params)\n",
      "File \u001b[0;32m/Library/Developer/CommandLineTools/Library/Frameworks/Python3.framework/Versions/3.8/lib/python3.8/typing.py:149\u001b[0m, in \u001b[0;36m_type_check\u001b[0;34m(arg, msg, is_argument)\u001b[0m\n\u001b[1;32m    <a href='file:///Library/Developer/CommandLineTools/Library/Frameworks/Python3.framework/Versions/3.8/lib/python3.8/typing.py?line=146'>147</a>\u001b[0m     \u001b[39mreturn\u001b[39;00m arg\n\u001b[1;32m    <a href='file:///Library/Developer/CommandLineTools/Library/Frameworks/Python3.framework/Versions/3.8/lib/python3.8/typing.py?line=147'>148</a>\u001b[0m \u001b[39mif\u001b[39;00m \u001b[39mnot\u001b[39;00m callable(arg):\n\u001b[0;32m--> <a href='file:///Library/Developer/CommandLineTools/Library/Frameworks/Python3.framework/Versions/3.8/lib/python3.8/typing.py?line=148'>149</a>\u001b[0m     \u001b[39mraise\u001b[39;00m \u001b[39mTypeError\u001b[39;00m(\u001b[39mf\u001b[39m\u001b[39m\"\u001b[39m\u001b[39m{\u001b[39;00mmsg\u001b[39m}\u001b[39;00m\u001b[39m Got \u001b[39m\u001b[39m{\u001b[39;00marg\u001b[39m!r:\u001b[39;00m\u001b[39m.100\u001b[39m\u001b[39m}\u001b[39;00m\u001b[39m.\u001b[39m\u001b[39m\"\u001b[39m)\n\u001b[1;32m    <a href='file:///Library/Developer/CommandLineTools/Library/Frameworks/Python3.framework/Versions/3.8/lib/python3.8/typing.py?line=149'>150</a>\u001b[0m \u001b[39mreturn\u001b[39;00m arg\n",
      "\u001b[0;31mTypeError\u001b[0m: Parameters to generic types must be types. Got 0."
     ]
    }
   ],
   "source": [
    "import vesta\n",
    "\n",
    "a = [1,1,1,1,1,2,1]\n",
    "b = vesta.chars.Row\n",
    "b = [list]*5\n",
    "a = 0\n",
    "for i in b:\n",
    "    b[a] = vesta.chars.Row\n",
    "    a = a +1\n",
    "print(b)\n",
    "b = vesta.chars.Rows\n",
    "print (type(b))\n",
    "# for i in a:\n",
    "#     b[i] = a[i]\n",
    "\n",
    "vesta.pprint(b)\n",
    "\n"
   ]
  }
 ],
 "metadata": {
  "interpreter": {
   "hash": "31f2aee4e71d21fbe5cf8b01ff0e069b9275f58929596ceb00d14d90e3e16cd6"
  },
  "kernelspec": {
   "display_name": "Python 3.8.2 64-bit",
   "language": "python",
   "name": "python3"
  },
  "language_info": {
   "codemirror_mode": {
    "name": "ipython",
    "version": 3
   },
   "file_extension": ".py",
   "mimetype": "text/x-python",
   "name": "python",
   "nbconvert_exporter": "python",
   "pygments_lexer": "ipython3",
   "version": "3.8.2"
  },
  "orig_nbformat": 4
 },
 "nbformat": 4,
 "nbformat_minor": 2
}
